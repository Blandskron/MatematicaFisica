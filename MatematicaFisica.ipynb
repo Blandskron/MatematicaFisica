{
  "nbformat": 4,
  "nbformat_minor": 0,
  "metadata": {
    "colab": {
      "provenance": [],
      "authorship_tag": "ABX9TyP3qpjov1AIMd+rC4GKohWN",
      "include_colab_link": true
    },
    "kernelspec": {
      "name": "python3",
      "display_name": "Python 3"
    },
    "language_info": {
      "name": "python"
    }
  },
  "cells": [
    {
      "cell_type": "markdown",
      "metadata": {
        "id": "view-in-github",
        "colab_type": "text"
      },
      "source": [
        "<a href=\"https://colab.research.google.com/github/Blandskron/MatematicaFisica/blob/main/MatematicaFisica.ipynb\" target=\"_parent\"><img src=\"https://colab.research.google.com/assets/colab-badge.svg\" alt=\"Open In Colab\"/></a>"
      ]
    },
    {
      "cell_type": "markdown",
      "source": [
        "# **Matemáticas para Física**"
      ],
      "metadata": {
        "id": "tUh_rnrucieZ"
      }
    },
    {
      "cell_type": "markdown",
      "source": [
        "### Importar bibliotecas necesarias"
      ],
      "metadata": {
        "id": "LCSaXckxcqG9"
      }
    },
    {
      "cell_type": "code",
      "source": [
        "pip install numpy matplotlib sympy"
      ],
      "metadata": {
        "colab": {
          "base_uri": "https://localhost:8080/"
        },
        "id": "hWbuaofEd7Hm",
        "outputId": "3cb1c84a-c27d-438e-e8f6-249c9ee13a90"
      },
      "execution_count": 11,
      "outputs": [
        {
          "output_type": "stream",
          "name": "stdout",
          "text": [
            "Requirement already satisfied: numpy in /usr/local/lib/python3.10/dist-packages (1.23.5)\n",
            "Requirement already satisfied: matplotlib in /usr/local/lib/python3.10/dist-packages (3.7.1)\n",
            "Requirement already satisfied: sympy in /usr/local/lib/python3.10/dist-packages (1.12)\n",
            "Requirement already satisfied: contourpy>=1.0.1 in /usr/local/lib/python3.10/dist-packages (from matplotlib) (1.1.0)\n",
            "Requirement already satisfied: cycler>=0.10 in /usr/local/lib/python3.10/dist-packages (from matplotlib) (0.11.0)\n",
            "Requirement already satisfied: fonttools>=4.22.0 in /usr/local/lib/python3.10/dist-packages (from matplotlib) (4.42.1)\n",
            "Requirement already satisfied: kiwisolver>=1.0.1 in /usr/local/lib/python3.10/dist-packages (from matplotlib) (1.4.4)\n",
            "Requirement already satisfied: packaging>=20.0 in /usr/local/lib/python3.10/dist-packages (from matplotlib) (23.1)\n",
            "Requirement already satisfied: pillow>=6.2.0 in /usr/local/lib/python3.10/dist-packages (from matplotlib) (9.4.0)\n",
            "Requirement already satisfied: pyparsing>=2.3.1 in /usr/local/lib/python3.10/dist-packages (from matplotlib) (3.1.1)\n",
            "Requirement already satisfied: python-dateutil>=2.7 in /usr/local/lib/python3.10/dist-packages (from matplotlib) (2.8.2)\n",
            "Requirement already satisfied: mpmath>=0.19 in /usr/local/lib/python3.10/dist-packages (from sympy) (1.3.0)\n",
            "Requirement already satisfied: six>=1.5 in /usr/local/lib/python3.10/dist-packages (from python-dateutil>=2.7->matplotlib) (1.16.0)\n"
          ]
        }
      ]
    },
    {
      "cell_type": "code",
      "execution_count": 12,
      "metadata": {
        "id": "Ppv22vj1cfTz"
      },
      "outputs": [],
      "source": [
        "import numpy as np\n",
        "import matplotlib.pyplot as plt\n",
        "from sympy import symbols, Eq, solve, integrate, diff\n",
        "from sympy.plotting import plot"
      ]
    },
    {
      "cell_type": "markdown",
      "source": [
        "Operaciones básicas y números reales"
      ],
      "metadata": {
        "id": "0yrCF4L9c4rU"
      }
    },
    {
      "cell_type": "code",
      "source": [
        "a = 5\n",
        "b = 3\n",
        "suma = a + b\n",
        "resta = a - b\n",
        "multiplicacion = a * b\n",
        "division = a / b"
      ],
      "metadata": {
        "id": "A9vgFFvXc7Yk"
      },
      "execution_count": 13,
      "outputs": []
    },
    {
      "cell_type": "markdown",
      "source": [
        "Números complejos e imaginarios"
      ],
      "metadata": {
        "id": "b5IGyXHXc_bt"
      }
    },
    {
      "cell_type": "code",
      "source": [
        "c = 2 + 3j\n",
        "d = 1 - 2j\n",
        "suma_complejos = c + d\n",
        "producto_complejos = c * d"
      ],
      "metadata": {
        "id": "P8iJuxZ1dCJs"
      },
      "execution_count": 14,
      "outputs": []
    },
    {
      "cell_type": "markdown",
      "source": [
        "Ecuaciones y su resolución"
      ],
      "metadata": {
        "id": "joWfj9w-dFLc"
      }
    },
    {
      "cell_type": "code",
      "source": [
        "x = symbols('x')\n",
        "ecuacion = Eq(2*x + 5, 9)\n",
        "solucion = solve(ecuacion, x)"
      ],
      "metadata": {
        "id": "HKj2dWXddHTc"
      },
      "execution_count": 15,
      "outputs": []
    },
    {
      "cell_type": "markdown",
      "source": [
        "Ecuaciones lineales y matrices"
      ],
      "metadata": {
        "id": "9hNUPct2dKEU"
      }
    },
    {
      "cell_type": "code",
      "source": [
        "A = np.array([[2, 3], [1, -1]])\n",
        "B = np.array([9, 1])\n",
        "solucion_sistema = np.linalg.solve(A, B)"
      ],
      "metadata": {
        "id": "UcbChFZ7dMWE"
      },
      "execution_count": 16,
      "outputs": []
    },
    {
      "cell_type": "markdown",
      "source": [
        "Funciones, derivadas e integrales"
      ],
      "metadata": {
        "id": "J2ADiHiHdO7E"
      }
    },
    {
      "cell_type": "code",
      "source": [
        "funcion = x**2 + 3*x + 2\n",
        "derivada = diff(funcion, x)\n",
        "integral = integrate(funcion, x)"
      ],
      "metadata": {
        "id": "5cRkp7JmdRjE"
      },
      "execution_count": 17,
      "outputs": []
    },
    {
      "cell_type": "markdown",
      "source": [
        "Vectores"
      ],
      "metadata": {
        "id": "HVLKqpSpdXGc"
      }
    },
    {
      "cell_type": "code",
      "source": [
        "vector_a = np.array([1, 2, 3])\n",
        "vector_b = np.array([-1, 0, 2])\n",
        "producto_punto = np.dot(vector_a, vector_b)"
      ],
      "metadata": {
        "id": "KGSWjd2-dZDU"
      },
      "execution_count": 18,
      "outputs": []
    },
    {
      "cell_type": "markdown",
      "source": [
        "Gráficos"
      ],
      "metadata": {
        "id": "besnmxS7ddNE"
      }
    },
    {
      "cell_type": "code",
      "source": [
        "x_vals = np.linspace(-5, 5, 100)\n",
        "y_vals = x_vals**2\n",
        "plt.plot(x_vals, y_vals)\n",
        "plt.xlabel('x')\n",
        "plt.ylabel('f(x)')\n",
        "plt.title('Gráfico de f(x) = x^2')\n",
        "plt.grid(True)\n",
        "plt.show()"
      ],
      "metadata": {
        "colab": {
          "base_uri": "https://localhost:8080/",
          "height": 472
        },
        "id": "1-_rsQL4deQo",
        "outputId": "b8f2765e-d892-4f2a-9c53-c0af55c8e7c5"
      },
      "execution_count": 19,
      "outputs": [
        {
          "output_type": "display_data",
          "data": {
            "text/plain": [
              "<Figure size 640x480 with 1 Axes>"
            ],
            "image/png": "[encoded data removed]"
          },
          "metadata": {}
        }
      ]
    },
    {
      "cell_type": "markdown",
      "source": [
        "Geometría en el plano"
      ],
      "metadata": {
        "id": "xCRcf-86didP"
      }
    },
    {
      "cell_type": "code",
      "source": [
        "puntos = np.array([[1, 2], [3, 4], [5, 6]])\n",
        "plt.scatter(puntos[:,0], puntos[:,1])\n",
        "plt.xlabel('Eje X')\n",
        "plt.ylabel('Eje Y')\n",
        "plt.title('Puntos en el plano')\n",
        "plt.grid(True)\n",
        "plt.show()"
      ],
      "metadata": {
        "colab": {
          "base_uri": "https://localhost:8080/",
          "height": 472
        },
        "id": "qVUIEEWXdkYU",
        "outputId": "36b4fa9f-bbdf-4ec9-ac67-b98882ede147"
      },
      "execution_count": 20,
      "outputs": [
        {
          "output_type": "display_data",
          "data": {
            "text/plain": [
              "<Figure size 640x480 with 1 Axes>"
            ],
            "image/png": "[encoded data removed]"
          },
          "metadata": {}
        }
      ]
    },
    {
      "cell_type": "markdown",
      "source": [
        "Estadística y probabilidad"
      ],
      "metadata": {
        "id": "mGp_hL_gdn00"
      }
    },
    {
      "cell_type": "code",
      "source": [
        "datos = np.array([23, 25, 30, 35, 40, 45])\n",
        "media = np.mean(datos)\n",
        "desviacion_std = np.std(datos)"
      ],
      "metadata": {
        "id": "Pc5vq9VzdqJc"
      },
      "execution_count": 21,
      "outputs": []
    }
  ]
}